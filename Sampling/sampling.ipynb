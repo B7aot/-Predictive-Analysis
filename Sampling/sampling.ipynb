{
  "nbformat": 4,
  "nbformat_minor": 0,
  "metadata": {
    "colab": {
      "provenance": []
    },
    "kernelspec": {
      "name": "python3",
      "display_name": "Python 3"
    },
    "language_info": {
      "name": "python"
    }
  },
  "cells": [
    {
      "cell_type": "code",
      "execution_count": 282,
      "metadata": {
        "id": "wNz7KxZsA7bu"
      },
      "outputs": [],
      "source": [
        "#importing libraries\n",
        "import numpy as np\n",
        "import pandas as pd"
      ]
    },
    {
      "cell_type": "code",
      "source": [
        "df=pd.read_csv('/content/drive/MyDrive/Creditcard_data.csv')"
      ],
      "metadata": {
        "id": "toyHlFc2CTbJ"
      },
      "execution_count": 283,
      "outputs": []
    },
    {
      "cell_type": "code",
      "source": [
        "df.head()"
      ],
      "metadata": {
        "colab": {
          "base_uri": "https://localhost:8080/",
          "height": 255
        },
        "id": "WyjsOqvXC6qn",
        "outputId": "41c790d5-6d66-41d2-eb1a-fbe3fbc2161e"
      },
      "execution_count": 284,
      "outputs": [
        {
          "output_type": "execute_result",
          "data": {
            "text/plain": [
              "   Time        V1        V2        V3        V4        V5        V6        V7  \\\n",
              "0     0 -1.359807 -0.072781  2.536347  1.378155 -0.338321  0.462388  0.239599   \n",
              "1     0  1.191857  0.266151  0.166480  0.448154  0.060018 -0.082361 -0.078803   \n",
              "2     1 -1.358354 -1.340163  1.773209  0.379780 -0.503198  1.800499  0.791461   \n",
              "3     1 -0.966272 -0.185226  1.792993 -0.863291 -0.010309  1.247203  0.237609   \n",
              "4     2 -1.158233  0.877737  1.548718  0.403034 -0.407193  0.095921  0.592941   \n",
              "\n",
              "         V8        V9  ...       V21       V22       V23       V24       V25  \\\n",
              "0  0.098698  0.363787  ... -0.018307  0.277838 -0.110474  0.066928  0.128539   \n",
              "1  0.085102 -0.255425  ... -0.225775 -0.638672  0.101288 -0.339846  0.167170   \n",
              "2  0.247676 -1.514654  ...  0.247998  0.771679  0.909412 -0.689281 -0.327642   \n",
              "3  0.377436 -1.387024  ... -0.108300  0.005274 -0.190321 -1.175575  0.647376   \n",
              "4 -0.270533  0.817739  ... -0.009431  0.798278 -0.137458  0.141267 -0.206010   \n",
              "\n",
              "        V26       V27       V28  Amount  Class  \n",
              "0 -0.189115  0.133558 -0.021053  149.62      0  \n",
              "1  0.125895 -0.008983  0.014724    2.69      1  \n",
              "2 -0.139097 -0.055353 -0.059752  378.66      0  \n",
              "3 -0.221929  0.062723  0.061458  123.50      0  \n",
              "4  0.502292  0.219422  0.215153   69.99      0  \n",
              "\n",
              "[5 rows x 31 columns]"
            ],
            "text/html": [
              "\n",
              "  <div id=\"df-722902d3-67ab-4f01-be5a-6d4ad2f4c92d\" class=\"colab-df-container\">\n",
              "    <div>\n",
              "<style scoped>\n",
              "    .dataframe tbody tr th:only-of-type {\n",
              "        vertical-align: middle;\n",
              "    }\n",
              "\n",
              "    .dataframe tbody tr th {\n",
              "        vertical-align: top;\n",
              "    }\n",
              "\n",
              "    .dataframe thead th {\n",
              "        text-align: right;\n",
              "    }\n",
              "</style>\n",
              "<table border=\"1\" class=\"dataframe\">\n",
              "  <thead>\n",
              "    <tr style=\"text-align: right;\">\n",
              "      <th></th>\n",
              "      <th>Time</th>\n",
              "      <th>V1</th>\n",
              "      <th>V2</th>\n",
              "      <th>V3</th>\n",
              "      <th>V4</th>\n",
              "      <th>V5</th>\n",
              "      <th>V6</th>\n",
              "      <th>V7</th>\n",
              "      <th>V8</th>\n",
              "      <th>V9</th>\n",
              "      <th>...</th>\n",
              "      <th>V21</th>\n",
              "      <th>V22</th>\n",
              "      <th>V23</th>\n",
              "      <th>V24</th>\n",
              "      <th>V25</th>\n",
              "      <th>V26</th>\n",
              "      <th>V27</th>\n",
              "      <th>V28</th>\n",
              "      <th>Amount</th>\n",
              "      <th>Class</th>\n",
              "    </tr>\n",
              "  </thead>\n",
              "  <tbody>\n",
              "    <tr>\n",
              "      <th>0</th>\n",
              "      <td>0</td>\n",
              "      <td>-1.359807</td>\n",
              "      <td>-0.072781</td>\n",
              "      <td>2.536347</td>\n",
              "      <td>1.378155</td>\n",
              "      <td>-0.338321</td>\n",
              "      <td>0.462388</td>\n",
              "      <td>0.239599</td>\n",
              "      <td>0.098698</td>\n",
              "      <td>0.363787</td>\n",
              "      <td>...</td>\n",
              "      <td>-0.018307</td>\n",
              "      <td>0.277838</td>\n",
              "      <td>-0.110474</td>\n",
              "      <td>0.066928</td>\n",
              "      <td>0.128539</td>\n",
              "      <td>-0.189115</td>\n",
              "      <td>0.133558</td>\n",
              "      <td>-0.021053</td>\n",
              "      <td>149.62</td>\n",
              "      <td>0</td>\n",
              "    </tr>\n",
              "    <tr>\n",
              "      <th>1</th>\n",
              "      <td>0</td>\n",
              "      <td>1.191857</td>\n",
              "      <td>0.266151</td>\n",
              "      <td>0.166480</td>\n",
              "      <td>0.448154</td>\n",
              "      <td>0.060018</td>\n",
              "      <td>-0.082361</td>\n",
              "      <td>-0.078803</td>\n",
              "      <td>0.085102</td>\n",
              "      <td>-0.255425</td>\n",
              "      <td>...</td>\n",
              "      <td>-0.225775</td>\n",
              "      <td>-0.638672</td>\n",
              "      <td>0.101288</td>\n",
              "      <td>-0.339846</td>\n",
              "      <td>0.167170</td>\n",
              "      <td>0.125895</td>\n",
              "      <td>-0.008983</td>\n",
              "      <td>0.014724</td>\n",
              "      <td>2.69</td>\n",
              "      <td>1</td>\n",
              "    </tr>\n",
              "    <tr>\n",
              "      <th>2</th>\n",
              "      <td>1</td>\n",
              "      <td>-1.358354</td>\n",
              "      <td>-1.340163</td>\n",
              "      <td>1.773209</td>\n",
              "      <td>0.379780</td>\n",
              "      <td>-0.503198</td>\n",
              "      <td>1.800499</td>\n",
              "      <td>0.791461</td>\n",
              "      <td>0.247676</td>\n",
              "      <td>-1.514654</td>\n",
              "      <td>...</td>\n",
              "      <td>0.247998</td>\n",
              "      <td>0.771679</td>\n",
              "      <td>0.909412</td>\n",
              "      <td>-0.689281</td>\n",
              "      <td>-0.327642</td>\n",
              "      <td>-0.139097</td>\n",
              "      <td>-0.055353</td>\n",
              "      <td>-0.059752</td>\n",
              "      <td>378.66</td>\n",
              "      <td>0</td>\n",
              "    </tr>\n",
              "    <tr>\n",
              "      <th>3</th>\n",
              "      <td>1</td>\n",
              "      <td>-0.966272</td>\n",
              "      <td>-0.185226</td>\n",
              "      <td>1.792993</td>\n",
              "      <td>-0.863291</td>\n",
              "      <td>-0.010309</td>\n",
              "      <td>1.247203</td>\n",
              "      <td>0.237609</td>\n",
              "      <td>0.377436</td>\n",
              "      <td>-1.387024</td>\n",
              "      <td>...</td>\n",
              "      <td>-0.108300</td>\n",
              "      <td>0.005274</td>\n",
              "      <td>-0.190321</td>\n",
              "      <td>-1.175575</td>\n",
              "      <td>0.647376</td>\n",
              "      <td>-0.221929</td>\n",
              "      <td>0.062723</td>\n",
              "      <td>0.061458</td>\n",
              "      <td>123.50</td>\n",
              "      <td>0</td>\n",
              "    </tr>\n",
              "    <tr>\n",
              "      <th>4</th>\n",
              "      <td>2</td>\n",
              "      <td>-1.158233</td>\n",
              "      <td>0.877737</td>\n",
              "      <td>1.548718</td>\n",
              "      <td>0.403034</td>\n",
              "      <td>-0.407193</td>\n",
              "      <td>0.095921</td>\n",
              "      <td>0.592941</td>\n",
              "      <td>-0.270533</td>\n",
              "      <td>0.817739</td>\n",
              "      <td>...</td>\n",
              "      <td>-0.009431</td>\n",
              "      <td>0.798278</td>\n",
              "      <td>-0.137458</td>\n",
              "      <td>0.141267</td>\n",
              "      <td>-0.206010</td>\n",
              "      <td>0.502292</td>\n",
              "      <td>0.219422</td>\n",
              "      <td>0.215153</td>\n",
              "      <td>69.99</td>\n",
              "      <td>0</td>\n",
              "    </tr>\n",
              "  </tbody>\n",
              "</table>\n",
              "<p>5 rows × 31 columns</p>\n",
              "</div>\n",
              "    <div class=\"colab-df-buttons\">\n",
              "\n",
              "  <div class=\"colab-df-container\">\n",
              "    <button class=\"colab-df-convert\" onclick=\"convertToInteractive('df-722902d3-67ab-4f01-be5a-6d4ad2f4c92d')\"\n",
              "            title=\"Convert this dataframe to an interactive table.\"\n",
              "            style=\"display:none;\">\n",
              "\n",
              "  <svg xmlns=\"http://www.w3.org/2000/svg\" height=\"24px\" viewBox=\"0 -960 960 960\">\n",
              "    <path d=\"M120-120v-720h720v720H120Zm60-500h600v-160H180v160Zm220 220h160v-160H400v160Zm0 220h160v-160H400v160ZM180-400h160v-160H180v160Zm440 0h160v-160H620v160ZM180-180h160v-160H180v160Zm440 0h160v-160H620v160Z\"/>\n",
              "  </svg>\n",
              "    </button>\n",
              "\n",
              "  <style>\n",
              "    .colab-df-container {\n",
              "      display:flex;\n",
              "      gap: 12px;\n",
              "    }\n",
              "\n",
              "    .colab-df-convert {\n",
              "      background-color: #E8F0FE;\n",
              "      border: none;\n",
              "      border-radius: 50%;\n",
              "      cursor: pointer;\n",
              "      display: none;\n",
              "      fill: #1967D2;\n",
              "      height: 32px;\n",
              "      padding: 0 0 0 0;\n",
              "      width: 32px;\n",
              "    }\n",
              "\n",
              "    .colab-df-convert:hover {\n",
              "      background-color: #E2EBFA;\n",
              "      box-shadow: 0px 1px 2px rgba(60, 64, 67, 0.3), 0px 1px 3px 1px rgba(60, 64, 67, 0.15);\n",
              "      fill: #174EA6;\n",
              "    }\n",
              "\n",
              "    .colab-df-buttons div {\n",
              "      margin-bottom: 4px;\n",
              "    }\n",
              "\n",
              "    [theme=dark] .colab-df-convert {\n",
              "      background-color: #3B4455;\n",
              "      fill: #D2E3FC;\n",
              "    }\n",
              "\n",
              "    [theme=dark] .colab-df-convert:hover {\n",
              "      background-color: #434B5C;\n",
              "      box-shadow: 0px 1px 3px 1px rgba(0, 0, 0, 0.15);\n",
              "      filter: drop-shadow(0px 1px 2px rgba(0, 0, 0, 0.3));\n",
              "      fill: #FFFFFF;\n",
              "    }\n",
              "  </style>\n",
              "\n",
              "    <script>\n",
              "      const buttonEl =\n",
              "        document.querySelector('#df-722902d3-67ab-4f01-be5a-6d4ad2f4c92d button.colab-df-convert');\n",
              "      buttonEl.style.display =\n",
              "        google.colab.kernel.accessAllowed ? 'block' : 'none';\n",
              "\n",
              "      async function convertToInteractive(key) {\n",
              "        const element = document.querySelector('#df-722902d3-67ab-4f01-be5a-6d4ad2f4c92d');\n",
              "        const dataTable =\n",
              "          await google.colab.kernel.invokeFunction('convertToInteractive',\n",
              "                                                    [key], {});\n",
              "        if (!dataTable) return;\n",
              "\n",
              "        const docLinkHtml = 'Like what you see? Visit the ' +\n",
              "          '<a target=\"_blank\" href=https://colab.research.google.com/notebooks/data_table.ipynb>data table notebook</a>'\n",
              "          + ' to learn more about interactive tables.';\n",
              "        element.innerHTML = '';\n",
              "        dataTable['output_type'] = 'display_data';\n",
              "        await google.colab.output.renderOutput(dataTable, element);\n",
              "        const docLink = document.createElement('div');\n",
              "        docLink.innerHTML = docLinkHtml;\n",
              "        element.appendChild(docLink);\n",
              "      }\n",
              "    </script>\n",
              "  </div>\n",
              "\n",
              "\n",
              "<div id=\"df-dabdd5ad-8ca6-4a35-8645-b7132fa16d9e\">\n",
              "  <button class=\"colab-df-quickchart\" onclick=\"quickchart('df-dabdd5ad-8ca6-4a35-8645-b7132fa16d9e')\"\n",
              "            title=\"Suggest charts\"\n",
              "            style=\"display:none;\">\n",
              "\n",
              "<svg xmlns=\"http://www.w3.org/2000/svg\" height=\"24px\"viewBox=\"0 0 24 24\"\n",
              "     width=\"24px\">\n",
              "    <g>\n",
              "        <path d=\"M19 3H5c-1.1 0-2 .9-2 2v14c0 1.1.9 2 2 2h14c1.1 0 2-.9 2-2V5c0-1.1-.9-2-2-2zM9 17H7v-7h2v7zm4 0h-2V7h2v10zm4 0h-2v-4h2v4z\"/>\n",
              "    </g>\n",
              "</svg>\n",
              "  </button>\n",
              "\n",
              "<style>\n",
              "  .colab-df-quickchart {\n",
              "      --bg-color: #E8F0FE;\n",
              "      --fill-color: #1967D2;\n",
              "      --hover-bg-color: #E2EBFA;\n",
              "      --hover-fill-color: #174EA6;\n",
              "      --disabled-fill-color: #AAA;\n",
              "      --disabled-bg-color: #DDD;\n",
              "  }\n",
              "\n",
              "  [theme=dark] .colab-df-quickchart {\n",
              "      --bg-color: #3B4455;\n",
              "      --fill-color: #D2E3FC;\n",
              "      --hover-bg-color: #434B5C;\n",
              "      --hover-fill-color: #FFFFFF;\n",
              "      --disabled-bg-color: #3B4455;\n",
              "      --disabled-fill-color: #666;\n",
              "  }\n",
              "\n",
              "  .colab-df-quickchart {\n",
              "    background-color: var(--bg-color);\n",
              "    border: none;\n",
              "    border-radius: 50%;\n",
              "    cursor: pointer;\n",
              "    display: none;\n",
              "    fill: var(--fill-color);\n",
              "    height: 32px;\n",
              "    padding: 0;\n",
              "    width: 32px;\n",
              "  }\n",
              "\n",
              "  .colab-df-quickchart:hover {\n",
              "    background-color: var(--hover-bg-color);\n",
              "    box-shadow: 0 1px 2px rgba(60, 64, 67, 0.3), 0 1px 3px 1px rgba(60, 64, 67, 0.15);\n",
              "    fill: var(--button-hover-fill-color);\n",
              "  }\n",
              "\n",
              "  .colab-df-quickchart-complete:disabled,\n",
              "  .colab-df-quickchart-complete:disabled:hover {\n",
              "    background-color: var(--disabled-bg-color);\n",
              "    fill: var(--disabled-fill-color);\n",
              "    box-shadow: none;\n",
              "  }\n",
              "\n",
              "  .colab-df-spinner {\n",
              "    border: 2px solid var(--fill-color);\n",
              "    border-color: transparent;\n",
              "    border-bottom-color: var(--fill-color);\n",
              "    animation:\n",
              "      spin 1s steps(1) infinite;\n",
              "  }\n",
              "\n",
              "  @keyframes spin {\n",
              "    0% {\n",
              "      border-color: transparent;\n",
              "      border-bottom-color: var(--fill-color);\n",
              "      border-left-color: var(--fill-color);\n",
              "    }\n",
              "    20% {\n",
              "      border-color: transparent;\n",
              "      border-left-color: var(--fill-color);\n",
              "      border-top-color: var(--fill-color);\n",
              "    }\n",
              "    30% {\n",
              "      border-color: transparent;\n",
              "      border-left-color: var(--fill-color);\n",
              "      border-top-color: var(--fill-color);\n",
              "      border-right-color: var(--fill-color);\n",
              "    }\n",
              "    40% {\n",
              "      border-color: transparent;\n",
              "      border-right-color: var(--fill-color);\n",
              "      border-top-color: var(--fill-color);\n",
              "    }\n",
              "    60% {\n",
              "      border-color: transparent;\n",
              "      border-right-color: var(--fill-color);\n",
              "    }\n",
              "    80% {\n",
              "      border-color: transparent;\n",
              "      border-right-color: var(--fill-color);\n",
              "      border-bottom-color: var(--fill-color);\n",
              "    }\n",
              "    90% {\n",
              "      border-color: transparent;\n",
              "      border-bottom-color: var(--fill-color);\n",
              "    }\n",
              "  }\n",
              "</style>\n",
              "\n",
              "  <script>\n",
              "    async function quickchart(key) {\n",
              "      const quickchartButtonEl =\n",
              "        document.querySelector('#' + key + ' button');\n",
              "      quickchartButtonEl.disabled = true;  // To prevent multiple clicks.\n",
              "      quickchartButtonEl.classList.add('colab-df-spinner');\n",
              "      try {\n",
              "        const charts = await google.colab.kernel.invokeFunction(\n",
              "            'suggestCharts', [key], {});\n",
              "      } catch (error) {\n",
              "        console.error('Error during call to suggestCharts:', error);\n",
              "      }\n",
              "      quickchartButtonEl.classList.remove('colab-df-spinner');\n",
              "      quickchartButtonEl.classList.add('colab-df-quickchart-complete');\n",
              "    }\n",
              "    (() => {\n",
              "      let quickchartButtonEl =\n",
              "        document.querySelector('#df-dabdd5ad-8ca6-4a35-8645-b7132fa16d9e button');\n",
              "      quickchartButtonEl.style.display =\n",
              "        google.colab.kernel.accessAllowed ? 'block' : 'none';\n",
              "    })();\n",
              "  </script>\n",
              "</div>\n",
              "    </div>\n",
              "  </div>\n"
            ]
          },
          "metadata": {},
          "execution_count": 284
        }
      ]
    },
    {
      "cell_type": "code",
      "source": [
        "#unique values in Class column\n",
        "print(df['Class'].unique())"
      ],
      "metadata": {
        "colab": {
          "base_uri": "https://localhost:8080/"
        },
        "id": "fxPjPZ7xDASQ",
        "outputId": "a101f6d5-c06b-4ad1-ca89-19cb296ebcaa"
      },
      "execution_count": 285,
      "outputs": [
        {
          "output_type": "stream",
          "name": "stdout",
          "text": [
            "[0 1]\n"
          ]
        }
      ]
    },
    {
      "cell_type": "code",
      "source": [
        "df.drop_duplicates(inplace=True)"
      ],
      "metadata": {
        "id": "isWICxtmEAg6"
      },
      "execution_count": 286,
      "outputs": []
    },
    {
      "cell_type": "code",
      "source": [
        "df.isnull().sum()"
      ],
      "metadata": {
        "colab": {
          "base_uri": "https://localhost:8080/"
        },
        "id": "80eAnJlpJclm",
        "outputId": "59e3a078-7dee-4736-8e1c-0991086bd28b"
      },
      "execution_count": 287,
      "outputs": [
        {
          "output_type": "execute_result",
          "data": {
            "text/plain": [
              "Time      0\n",
              "V1        0\n",
              "V2        0\n",
              "V3        0\n",
              "V4        0\n",
              "V5        0\n",
              "V6        0\n",
              "V7        0\n",
              "V8        0\n",
              "V9        0\n",
              "V10       0\n",
              "V11       0\n",
              "V12       0\n",
              "V13       0\n",
              "V14       0\n",
              "V15       0\n",
              "V16       0\n",
              "V17       0\n",
              "V18       0\n",
              "V19       0\n",
              "V20       0\n",
              "V21       0\n",
              "V22       0\n",
              "V23       0\n",
              "V24       0\n",
              "V25       0\n",
              "V26       0\n",
              "V27       0\n",
              "V28       0\n",
              "Amount    0\n",
              "Class     0\n",
              "dtype: int64"
            ]
          },
          "metadata": {},
          "execution_count": 287
        }
      ]
    },
    {
      "cell_type": "code",
      "source": [
        "y=df['Class']\n",
        "x=df.drop(columns=['Class'], axis=1)"
      ],
      "metadata": {
        "id": "Li5-i56VM6GF"
      },
      "execution_count": 288,
      "outputs": []
    },
    {
      "cell_type": "code",
      "source": [
        "#class imbalance\n",
        "y.value_counts()"
      ],
      "metadata": {
        "colab": {
          "base_uri": "https://localhost:8080/"
        },
        "id": "i9Di863aEd6E",
        "outputId": "86d8f605-a73a-49c7-d29d-867bf5161f3a"
      },
      "execution_count": 289,
      "outputs": [
        {
          "output_type": "execute_result",
          "data": {
            "text/plain": [
              "0    756\n",
              "1      9\n",
              "Name: Class, dtype: int64"
            ]
          },
          "metadata": {},
          "execution_count": 289
        }
      ]
    },
    {
      "cell_type": "code",
      "source": [
        "#converting data into balanced dataset"
      ],
      "metadata": {
        "id": "2IPhIjHmE8-c"
      },
      "execution_count": 290,
      "outputs": []
    },
    {
      "cell_type": "code",
      "source": [
        "#balancing technique : SMOTE [oversampling]\n",
        "from imblearn.over_sampling import SMOTE\n",
        "so= SMOTE(random_state=0)\n",
        "xso,yso=so.fit_resample(x,y)\n",
        "yso.value_counts()"
      ],
      "metadata": {
        "colab": {
          "base_uri": "https://localhost:8080/"
        },
        "id": "Qem2LevlJaL3",
        "outputId": "ec4a8ec6-6180-455a-bc06-aa2a3d5d6ddb"
      },
      "execution_count": 291,
      "outputs": [
        {
          "output_type": "execute_result",
          "data": {
            "text/plain": [
              "0    756\n",
              "1    756\n",
              "Name: Class, dtype: int64"
            ]
          },
          "metadata": {},
          "execution_count": 291
        }
      ]
    },
    {
      "cell_type": "code",
      "source": [
        "from sklearn.model_selection import train_test_split\n",
        "import matplotlib.pyplot as plt\n",
        "import math\n",
        "from sklearn import linear_model\n",
        "from sklearn.tree import DecisionTreeClassifier\n",
        "from sklearn.ensemble import RandomForestClassifier\n",
        "from sklearn.neighbors import KNeighborsClassifier\n",
        "from sklearn.naive_bayes import GaussianNB\n",
        "from tabulate import tabulate\n",
        "from sklearn.metrics import roc_auc_score\n",
        "from tabulate import tabulate"
      ],
      "metadata": {
        "id": "OLBOGizYNu-_"
      },
      "execution_count": 292,
      "outputs": []
    },
    {
      "cell_type": "code",
      "source": [
        "#accuracy will be measured as roc_auc_score"
      ],
      "metadata": {
        "id": "NtyPxOuxZo7h"
      },
      "execution_count": 293,
      "outputs": []
    },
    {
      "cell_type": "code",
      "source": [
        "#models"
      ],
      "metadata": {
        "id": "1tCKGTiuf1lF"
      },
      "execution_count": 294,
      "outputs": []
    },
    {
      "cell_type": "code",
      "source": [
        "def lrc(xso,yso):\n",
        "  #model 1: linear regression\n",
        "  x_train, x_test, y_train, y_test = train_test_split(xso, yso, test_size=0.3, random_state=42)\n",
        "  lr = linear_model.LinearRegression()\n",
        "  lr.fit(x_train, y_train)\n",
        "  y_pred = lr.predict(x_test)\n",
        "  ascore1 = roc_auc_score(y_test, y_pred)\n",
        "  print(ascore1)\n"
      ],
      "metadata": {
        "id": "PS3jtsWzUA6b"
      },
      "execution_count": 295,
      "outputs": []
    },
    {
      "cell_type": "code",
      "source": [
        "def dt(xso,yso):\n",
        "    #model 2: decision tree\n",
        "    x_train, x_test, y_train, y_test = train_test_split(xso, yso, test_size=0.3, random_state=42)\n",
        "    dtc= DecisionTreeClassifier(criterion='entropy', random_state=0)\n",
        "    dtc.fit(x_train, y_train)\n",
        "    y_pred = dtc.predict(x_test)\n",
        "    ascore2 = roc_auc_score(y_test, y_pred)\n",
        "    print(ascore2)"
      ],
      "metadata": {
        "id": "PUya7kUaUfe3"
      },
      "execution_count": 296,
      "outputs": []
    },
    {
      "cell_type": "code",
      "source": [
        "def rfc(xso,yso):\n",
        "    #model 3: Random Forest\n",
        "    x_train, x_test, y_train, y_test = train_test_split(xso, yso, test_size=0.3, random_state=42)\n",
        "    rf = RandomForestClassifier()\n",
        "    rf.fit(x_train, y_train)\n",
        "    y_pred = rf.predict(x_test)\n",
        "    ascore3 = roc_auc_score(y_test, y_pred)\n",
        "    print(ascore3)"
      ],
      "metadata": {
        "id": "Y7kSnegwW2c8"
      },
      "execution_count": 297,
      "outputs": []
    },
    {
      "cell_type": "code",
      "source": [
        "def knnc(xso,yso):\n",
        "    #model 4: KNeighbors Classifier\n",
        "    x_train, x_test, y_train, y_test = train_test_split(xso, yso, test_size=0.3, random_state=42)\n",
        "    knn = KNeighborsClassifier(n_neighbors=7)\n",
        "    knn.fit(x_train, y_train)\n",
        "    y_pred = knn.predict(x_test)\n",
        "    ascore4 = roc_auc_score(y_test, y_pred)\n",
        "    print(ascore4)"
      ],
      "metadata": {
        "id": "weu6nWjnYBLT"
      },
      "execution_count": 298,
      "outputs": []
    },
    {
      "cell_type": "code",
      "source": [
        "def gnb(xso,yso):\n",
        "    #model 5: Gaussian Classifier\n",
        "    x_train, x_test, y_train, y_test = train_test_split(xso, yso, test_size=0.3, random_state=42)\n",
        "    nb = GaussianNB()\n",
        "    nb.fit(x_train, y_train)\n",
        "    y_pred = nb.predict(x_test)\n",
        "    ascore5 = roc_auc_score(y_test, y_pred)\n",
        "    print(ascore5)"
      ],
      "metadata": {
        "id": "kR9csVo1Z7II"
      },
      "execution_count": 299,
      "outputs": []
    },
    {
      "cell_type": "code",
      "source": [
        "df = xso\n",
        "df['Class'] = yso"
      ],
      "metadata": {
        "id": "cMg_GKZTSt8G"
      },
      "execution_count": 300,
      "outputs": []
    },
    {
      "cell_type": "code",
      "source": [
        "#sampling techniques"
      ],
      "metadata": {
        "id": "s95ZQH1Cf3-B"
      },
      "execution_count": 301,
      "outputs": []
    },
    {
      "cell_type": "code",
      "source": [
        "#Sampling technique 1: Simple Random Sampling [S1]\n",
        "z = 1.96\n",
        "p = 0.5\n",
        "e = 0.05\n",
        "sampleSize = math.ceil(((z**2)*p*(1-p))/(e**2))\n",
        "print(sampleSize)\n",
        "sp1 = [df.sample(n=sampleSize,random_state=0)]\n",
        "xx1=sp1[0].drop('Class',axis=1)\n",
        "yy1=sp1[0]['Class']\n",
        "lrc(xx1,yy1)\n",
        "dt(xx1,yy1)\n",
        "rfc(xx1,yy1)\n",
        "knnc(xx1,yy1)\n",
        "gnb(xx1,yy1)"
      ],
      "metadata": {
        "id": "mGDMfUpwaYyb",
        "colab": {
          "base_uri": "https://localhost:8080/"
        },
        "outputId": "f2102fdf-6920-4df9-e099-303d02060a1a"
      },
      "execution_count": 302,
      "outputs": [
        {
          "output_type": "stream",
          "name": "stdout",
          "text": [
            "385\n",
            "0.9137466307277629\n",
            "0.8873914345612459\n",
            "0.9920634920634921\n",
            "0.6755016471997605\n",
            "0.8333333333333334\n"
          ]
        }
      ]
    },
    {
      "cell_type": "code",
      "source": [
        "#Sampling technique 2: Stratified Sampling [S2]\n",
        "z=1.96\n",
        "p=0.5\n",
        "e=0.05\n",
        "s=0.9\n",
        "sampleSize=round(((z**2)*p*(1-p))/((e/s)**2))\n",
        "print(sampleSize)\n",
        "sp2 = [df.groupby('Class', group_keys=False).apply(lambda x: x.sample(sampleSize))]\n",
        "xx2=sp2[0].drop('Class',axis=1)\n",
        "yy2=sp2[0]['Class']\n",
        "lrc(xx2,yy2)\n",
        "dt(xx2,yy2)\n",
        "rfc(xx2,yy2)\n",
        "knnc(xx2,yy2)\n",
        "gnb(xx2,yy2)"
      ],
      "metadata": {
        "colab": {
          "base_uri": "https://localhost:8080/"
        },
        "id": "0-92BeW-XJaG",
        "outputId": "99df141b-b1b2-4c31-c33a-8ffb11c129bc"
      },
      "execution_count": 303,
      "outputs": [
        {
          "output_type": "stream",
          "name": "stdout",
          "text": [
            "311\n",
            "0.924506387921022\n",
            "0.9578977932636469\n",
            "0.9952380952380953\n",
            "0.7458768873403019\n",
            "0.8228222996515677\n"
          ]
        }
      ]
    },
    {
      "cell_type": "code",
      "source": [
        "#Sampling technique 3 : Cluster Sampling [S3]\n",
        "z=1.96\n",
        "p=0.5\n",
        "e=0.05\n",
        "c=1.2\n",
        "sampleSize=round(((z**2)*p*(1-p))/((e/c)**2))\n",
        "print(sampleSize)\n",
        "dff = df.groupby(np.arange(len(df)) // 2, sort=False).apply(lambda x: x.reset_index(drop=True))\n",
        "sp3 = dff.sample(n=int(sampleSize))\n",
        "xx3=sp3.drop('Class',axis=1)\n",
        "yy3=sp3['Class']\n",
        "lrc(xx3,yy3)\n",
        "dt(xx3,yy3)\n",
        "rfc(xx3,yy3)\n",
        "knnc(xx3,yy3)\n",
        "gnb(xx3,yy3)"
      ],
      "metadata": {
        "colab": {
          "base_uri": "https://localhost:8080/"
        },
        "id": "l-JKiIF1bktL",
        "outputId": "beccf65e-7c7a-4cc1-e835-d632c4ee231a"
      },
      "execution_count": 304,
      "outputs": [
        {
          "output_type": "stream",
          "name": "stdout",
          "text": [
            "553\n",
            "0.922172619047619\n",
            "0.9303571428571429\n",
            "0.9947916666666667\n",
            "0.7032738095238095\n",
            "0.8431547619047619\n"
          ]
        }
      ]
    },
    {
      "cell_type": "code",
      "source": [
        "#Sampling technique 4: Bootstrap Sampling [S4]\n",
        "z = 1.96\n",
        "p = 0.5\n",
        "e = 0.05\n",
        "sampleSize = math.ceil(((z**2)*p*(1-p))/(e**2))\n",
        "print(sampleSize)\n",
        "sp4 = df.sample(n=sampleSize,replace=True)\n",
        "xx4=sp4.drop('Class',axis=1)\n",
        "yy4=sp4['Class']\n",
        "lrc(xx4,yy4)\n",
        "dt(xx4,yy4)\n",
        "rfc(xx4,yy4)\n",
        "knnc(xx4,yy4)\n",
        "gnb(xx4,yy4)"
      ],
      "metadata": {
        "colab": {
          "base_uri": "https://localhost:8080/"
        },
        "id": "sCtq9J5KdfgD",
        "outputId": "e6e518da-8161-42aa-e0b7-c1c1842e40fd"
      },
      "execution_count": 305,
      "outputs": [
        {
          "output_type": "stream",
          "name": "stdout",
          "text": [
            "385\n",
            "0.9479166666666667\n",
            "0.9482142857142857\n",
            "0.9910714285714285\n",
            "0.7279761904761906\n",
            "0.7791666666666666\n"
          ]
        }
      ]
    },
    {
      "cell_type": "code",
      "source": [
        "#Sampling technique 5 : Systamatic Sampling [S5]\n",
        "sp5 = df.iloc[::int(math.sqrt(len(df)))]\n",
        "xx5=sp5.drop('Class',axis=1)\n",
        "yy5=sp5['Class']\n",
        "lrc(xx5,yy5)\n",
        "dt(xx5,yy5)\n",
        "rfc(xx5,yy5)\n",
        "knnc(xx5,yy5)\n",
        "gnb(xx5,yy5)"
      ],
      "metadata": {
        "colab": {
          "base_uri": "https://localhost:8080/"
        },
        "id": "9yaQeqVmegKy",
        "outputId": "a31bfac4-3ceb-4956-ca40-16c7c80ef135"
      },
      "execution_count": 306,
      "outputs": [
        {
          "output_type": "stream",
          "name": "stdout",
          "text": [
            "0.4285714285714286\n",
            "0.9285714285714286\n",
            "0.8285714285714286\n",
            "0.41428571428571426\n",
            "0.45714285714285713\n"
          ]
        }
      ]
    },
    {
      "cell_type": "code",
      "source": [
        "mz = pd.DataFrame(index=['S1', 'S2','S3','S4','S5'],\n",
        "                          columns=['Linear Regression', 'Decision Tree', 'Random Forest', 'KNN', 'Naive Bayes'])\n"
      ],
      "metadata": {
        "id": "WGsOJUMC6o4c"
      },
      "execution_count": 307,
      "outputs": []
    },
    {
      "cell_type": "code",
      "source": [
        "#ROC_AUC model Linear Regression\n",
        "mz.at['S1', 'Linear Regression'] = lrc(xx1, yy1)\n",
        "mz.at['S2', 'Linear Regression'] = lrc(xx2, yy2)\n",
        "mz.at['S3', 'Linear Regression'] = lrc(xx3, yy3)\n",
        "mz.at['S4', 'Linear Regression'] = lrc(xx4, yy4)\n",
        "mz.at['S5', 'Linear Regression'] = lrc(xx5, yy5)"
      ],
      "metadata": {
        "colab": {
          "base_uri": "https://localhost:8080/"
        },
        "id": "EM2TyHPv8ofE",
        "outputId": "a1d11688-cb36-4abe-9cea-5a5eb9776db3"
      },
      "execution_count": 308,
      "outputs": [
        {
          "output_type": "stream",
          "name": "stdout",
          "text": [
            "0.9137466307277629\n",
            "0.924506387921022\n",
            "0.922172619047619\n",
            "0.9479166666666667\n",
            "0.4285714285714286\n"
          ]
        }
      ]
    },
    {
      "cell_type": "code",
      "source": [
        "#ROC_AUC model Decision Tree\n",
        "mz.at['S1', 'Decision Tree'] = dt(xx1, yy1)\n",
        "mz.at['S2', 'Decision Tree'] = dt(xx2, yy2)\n",
        "mz.at['S3', 'Decision Tree'] = dt(xx3, yy3)\n",
        "mz.at['S4', 'Decision Tree'] = dt(xx4, yy4)\n",
        "mz.at['S5', 'Decision Tree'] = dt(xx5, yy5)\n"
      ],
      "metadata": {
        "colab": {
          "base_uri": "https://localhost:8080/"
        },
        "id": "uRKy4TL58vw2",
        "outputId": "8f68b69e-c6c7-48d4-d4ae-f2d132c44b31"
      },
      "execution_count": 309,
      "outputs": [
        {
          "output_type": "stream",
          "name": "stdout",
          "text": [
            "0.8873914345612459\n",
            "0.9578977932636469\n",
            "0.9303571428571429\n",
            "0.9482142857142857\n",
            "0.9285714285714286\n"
          ]
        }
      ]
    },
    {
      "cell_type": "code",
      "source": [
        "#ROC_AUC model Random Forest\n",
        "mz.at['S1', 'Random Forest'] = rfc(xx1, yy1)\n",
        "mz.at['S2', 'Random Forest'] = rfc(xx2, yy2)\n",
        "mz.at['S3', 'Random Forest'] = rfc(xx3, yy3)\n",
        "mz.at['S4', 'Random Forest'] = rfc(xx4, yy4)\n",
        "mz.at['S5', 'Random Forest'] = rfc(xx5, yy5)\n"
      ],
      "metadata": {
        "colab": {
          "base_uri": "https://localhost:8080/"
        },
        "id": "CIFTjUN38v--",
        "outputId": "ecd7d836-3c26-4ab4-a725-3a84387b2dfa"
      },
      "execution_count": 310,
      "outputs": [
        {
          "output_type": "stream",
          "name": "stdout",
          "text": [
            "0.9841269841269842\n",
            "0.9904761904761904\n",
            "0.9947916666666667\n",
            "0.9910714285714285\n",
            "0.7285714285714286\n"
          ]
        }
      ]
    },
    {
      "cell_type": "code",
      "source": [
        "#ROC_AUC model KNN\n",
        "mz.at['S1', 'KNN'] = knnc(xx1, yy1)\n",
        "mz.at['S2', 'KNN'] = knnc(xx2, yy2)\n",
        "mz.at['S3', 'KNN'] = knnc(xx3, yy3)\n",
        "mz.at['S4', 'KNN'] = knnc(xx4, yy4)\n",
        "mz.at['S5', 'KNN'] = knnc(xx5, yy5)\n"
      ],
      "metadata": {
        "colab": {
          "base_uri": "https://localhost:8080/"
        },
        "id": "_9RLyxXv8wW1",
        "outputId": "7af191ec-13ee-4ebf-88b1-89d4c627835a"
      },
      "execution_count": 311,
      "outputs": [
        {
          "output_type": "stream",
          "name": "stdout",
          "text": [
            "0.6755016471997605\n",
            "0.7458768873403019\n",
            "0.7032738095238095\n",
            "0.7279761904761906\n",
            "0.41428571428571426\n"
          ]
        }
      ]
    },
    {
      "cell_type": "code",
      "source": [
        "#ROC_AUC model Naive Bayes\n",
        "mz.at['S1', 'Naive Bayes'] = gnb(xx1, yy1)\n",
        "mz.at['S2', 'Naive Bayes'] = gnb(xx2, yy2)\n",
        "mz.at['S3', 'Naive Bayes'] = gnb(xx3, yy3)\n",
        "mz.at['S4', 'Naive Bayes'] = gnb(xx4, yy4)\n",
        "mz.at['S5', 'Naive Bayes'] = gnb(xx5, yy5)\n"
      ],
      "metadata": {
        "colab": {
          "base_uri": "https://localhost:8080/"
        },
        "id": "iohJ_dE87BzA",
        "outputId": "dfc67040-2c3e-43be-95dc-a5b5fd44ca50"
      },
      "execution_count": 312,
      "outputs": [
        {
          "output_type": "stream",
          "name": "stdout",
          "text": [
            "0.8333333333333334\n",
            "0.8228222996515677\n",
            "0.8431547619047619\n",
            "0.7791666666666666\n",
            "0.45714285714285713\n"
          ]
        }
      ]
    }
  ]
}