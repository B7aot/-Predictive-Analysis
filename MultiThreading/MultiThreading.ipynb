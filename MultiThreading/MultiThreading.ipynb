{
  "nbformat": 4,
  "nbformat_minor": 0,
  "metadata": {
    "colab": {
      "provenance": []
    },
    "kernelspec": {
      "name": "python3",
      "display_name": "Python 3"
    },
    "language_info": {
      "name": "python"
    }
  },
  "cells": [
    {
      "cell_type": "markdown",
      "source": [
        "Importing Libraries"
      ],
      "metadata": {
        "id": "iQQSEBgxlYFj"
      }
    },
    {
      "cell_type": "code",
      "source": [
        "import numpy as np\n",
        "import threading\n",
        "import time\n",
        "import psutil"
      ],
      "metadata": {
        "id": "cQ-ZyjlhkT4K"
      },
      "execution_count": 10,
      "outputs": []
    },
    {
      "cell_type": "markdown",
      "source": [
        "Constant Matrix of 100 x 100"
      ],
      "metadata": {
        "id": "X_gl8f2NlC32"
      }
    },
    {
      "cell_type": "code",
      "source": [
        "#size taken 100 due to slow processing\n",
        "constant_matrix = np.random.randint(0,9, size=(100, 100))\n",
        "constant_matrix"
      ],
      "metadata": {
        "colab": {
          "base_uri": "https://localhost:8080/"
        },
        "id": "fi4J9ldPkYR5",
        "outputId": "59880dd2-4b92-4262-93af-0d88781f928e"
      },
      "execution_count": 11,
      "outputs": [
        {
          "output_type": "execute_result",
          "data": {
            "text/plain": [
              "array([[4, 7, 3, ..., 1, 3, 1],\n",
              "       [0, 5, 7, ..., 3, 1, 4],\n",
              "       [0, 7, 0, ..., 4, 0, 1],\n",
              "       ...,\n",
              "       [5, 4, 2, ..., 1, 6, 4],\n",
              "       [3, 1, 8, ..., 0, 2, 8],\n",
              "       [4, 4, 8, ..., 6, 5, 5]])"
            ]
          },
          "metadata": {},
          "execution_count": 11
        }
      ]
    },
    {
      "cell_type": "markdown",
      "source": [
        "100 Random matrices"
      ],
      "metadata": {
        "id": "EJqPIalnlHLP"
      }
    },
    {
      "cell_type": "code",
      "source": [
        "#size taken 100 due to slow processing(multiplication)\n",
        "matrices = []\n",
        "for i in range(100):\n",
        "    matrix = np.random.randint(0, 9, size=(100, 100))\n",
        "    matrices.append(matrix)"
      ],
      "metadata": {
        "id": "5tRnYCNNkYOd"
      },
      "execution_count": 12,
      "outputs": []
    },
    {
      "cell_type": "markdown",
      "source": [
        "Matrix Multiplication"
      ],
      "metadata": {
        "id": "_waYsy35lO97"
      }
    },
    {
      "cell_type": "code",
      "source": [
        "def matmul(constant_matrix,matrices,st,ed,cpu): #st= starting index, ed= ending index\n",
        "    result=constant_matrix\n",
        "    for i in range(st,ed):\n",
        "        result = np.dot(result,matrices[i])\n",
        "        cpu.append(psutil.cpu_percent(interval=0.1))\n",
        "    return result"
      ],
      "metadata": {
        "id": "UQROrn1JkYLV"
      },
      "execution_count": 13,
      "outputs": []
    },
    {
      "cell_type": "markdown",
      "source": [
        "To store time taken"
      ],
      "metadata": {
        "id": "n6trNBMnlhmD"
      }
    },
    {
      "cell_type": "code",
      "source": [
        "data=[[] for i in range(8)]"
      ],
      "metadata": {
        "id": "9Xh2CFIYkYJC"
      },
      "execution_count": 14,
      "outputs": []
    },
    {
      "cell_type": "markdown",
      "source": [
        "Implementation"
      ],
      "metadata": {
        "id": "UTBRZKE3lpED"
      }
    },
    {
      "cell_type": "code",
      "source": [
        "for w in range(1,9):\n",
        "    c=w\n",
        "    print(\"TOTAL THREADS = \",c)\n",
        "    t = [None] * c\n",
        "    cpu_p =[[] for q in range(c)]\n",
        "    s=0\n",
        "    size=100//c\n",
        "    r=100 % c\n",
        "    start = time.time()\n",
        "    for i in range (c):\n",
        "        j = s + size\n",
        "        if i < r:\n",
        "            j =j+ 1\n",
        "        t[i]=threading.Thread(target=matmul, args=(constant_matrix,matrices,int(s),int(j),cpu_p[i]))\n",
        "        t[i].start()\n",
        "        s=j\n",
        "    for i in range (c):\n",
        "        t[i].join()\n",
        "    for i, percentages in enumerate(cpu_p):\n",
        "        total_percentage = sum(percentages)\n",
        "        average_percentage = total_percentage / len(percentages)\n",
        "        print(f\"Thread {i + 1} Average CPU Usage : \",average_percentage) #Prints AVERAGE CPU USAGE\n",
        "    end = time.time()\n",
        "    data[c-1].append(end-start)\n",
        "    print()"
      ],
      "metadata": {
        "colab": {
          "base_uri": "https://localhost:8080/"
        },
        "id": "Bb2KkkDsktM2",
        "outputId": "b68214d2-2ab5-432a-a239-dee4ccc6a845"
      },
      "execution_count": 15,
      "outputs": [
        {
          "output_type": "stream",
          "name": "stdout",
          "text": [
            "TOTAL THREADS =  1\n",
            "Thread 1 Average CPU Usage :  9.987\n",
            "\n",
            "TOTAL THREADS =  2\n",
            "Thread 1 Average CPU Usage :  2.3639999999999994\n",
            "Thread 2 Average CPU Usage :  2.1979999999999995\n",
            "\n",
            "TOTAL THREADS =  3\n",
            "Thread 1 Average CPU Usage :  4.194117647058823\n",
            "Thread 2 Average CPU Usage :  4.624242424242424\n",
            "Thread 3 Average CPU Usage :  3.963636363636364\n",
            "\n",
            "TOTAL THREADS =  4\n",
            "Thread 1 Average CPU Usage :  35.4\n",
            "Thread 2 Average CPU Usage :  35.648\n",
            "Thread 3 Average CPU Usage :  35.528\n",
            "Thread 4 Average CPU Usage :  35.256\n",
            "\n",
            "TOTAL THREADS =  5\n",
            "Thread 1 Average CPU Usage :  5.0249999999999995\n",
            "Thread 2 Average CPU Usage :  4.7\n",
            "Thread 3 Average CPU Usage :  5.174999999999999\n",
            "Thread 4 Average CPU Usage :  5.1899999999999995\n",
            "Thread 5 Average CPU Usage :  4.954999999999999\n",
            "\n",
            "TOTAL THREADS =  6\n",
            "Thread 1 Average CPU Usage :  5.229411764705882\n",
            "Thread 2 Average CPU Usage :  4.305882352941176\n",
            "Thread 3 Average CPU Usage :  6.023529411764706\n",
            "Thread 4 Average CPU Usage :  5.429411764705883\n",
            "Thread 5 Average CPU Usage :  5.043749999999999\n",
            "Thread 6 Average CPU Usage :  5.825\n",
            "\n",
            "TOTAL THREADS =  7\n",
            "Thread 1 Average CPU Usage :  6.34\n",
            "Thread 2 Average CPU Usage :  6.34\n",
            "Thread 3 Average CPU Usage :  7.0928571428571425\n",
            "Thread 4 Average CPU Usage :  5.6\n",
            "Thread 5 Average CPU Usage :  6.75\n",
            "Thread 6 Average CPU Usage :  5.578571428571428\n",
            "Thread 7 Average CPU Usage :  6.992857142857142\n",
            "\n",
            "TOTAL THREADS =  8\n",
            "Thread 1 Average CPU Usage :  7.176923076923076\n",
            "Thread 2 Average CPU Usage :  6.076923076923077\n",
            "Thread 3 Average CPU Usage :  7.938461538461538\n",
            "Thread 4 Average CPU Usage :  6.069230769230769\n",
            "Thread 5 Average CPU Usage :  8.174999999999999\n",
            "Thread 6 Average CPU Usage :  8.049999999999999\n",
            "Thread 7 Average CPU Usage :  8.116666666666665\n",
            "Thread 8 Average CPU Usage :  7.3999999999999995\n",
            "\n"
          ]
        }
      ]
    },
    {
      "cell_type": "markdown",
      "source": [
        "Result Table"
      ],
      "metadata": {
        "id": "4eoFl9hHmQ36"
      }
    },
    {
      "cell_type": "code",
      "source": [
        "import pandas as pd\n",
        "d = np.array(data)\n",
        "dd= np.reshape(d, (1, 8))\n",
        "df = pd.DataFrame(dd, columns=['T1', 'T2', 'T3', 'T4', 'T5', 'T6','T7','T8'],index=['Time Taken'])\n",
        "df"
      ],
      "metadata": {
        "colab": {
          "base_uri": "https://localhost:8080/",
          "height": 81
        },
        "id": "iAinzgK-kzdJ",
        "outputId": "417b2328-d831-4c38-df2a-bc4df7bb1ce5"
      },
      "execution_count": 16,
      "outputs": [
        {
          "output_type": "execute_result",
          "data": {
            "text/plain": [
              "                   T1        T2       T3        T4        T5        T6  \\\n",
              "Time Taken  10.160443  5.100871  3.46469  2.558306  2.043985  1.740611   \n",
              "\n",
              "                 T7        T8  \n",
              "Time Taken  1.53515  1.338899  "
            ],
            "text/html": [
              "\n",
              "  <div id=\"df-193d3a60-bf2e-4e92-bec7-7895d70f73e4\" class=\"colab-df-container\">\n",
              "    <div>\n",
              "<style scoped>\n",
              "    .dataframe tbody tr th:only-of-type {\n",
              "        vertical-align: middle;\n",
              "    }\n",
              "\n",
              "    .dataframe tbody tr th {\n",
              "        vertical-align: top;\n",
              "    }\n",
              "\n",
              "    .dataframe thead th {\n",
              "        text-align: right;\n",
              "    }\n",
              "</style>\n",
              "<table border=\"1\" class=\"dataframe\">\n",
              "  <thead>\n",
              "    <tr style=\"text-align: right;\">\n",
              "      <th></th>\n",
              "      <th>T1</th>\n",
              "      <th>T2</th>\n",
              "      <th>T3</th>\n",
              "      <th>T4</th>\n",
              "      <th>T5</th>\n",
              "      <th>T6</th>\n",
              "      <th>T7</th>\n",
              "      <th>T8</th>\n",
              "    </tr>\n",
              "  </thead>\n",
              "  <tbody>\n",
              "    <tr>\n",
              "      <th>Time Taken</th>\n",
              "      <td>10.160443</td>\n",
              "      <td>5.100871</td>\n",
              "      <td>3.46469</td>\n",
              "      <td>2.558306</td>\n",
              "      <td>2.043985</td>\n",
              "      <td>1.740611</td>\n",
              "      <td>1.53515</td>\n",
              "      <td>1.338899</td>\n",
              "    </tr>\n",
              "  </tbody>\n",
              "</table>\n",
              "</div>\n",
              "    <div class=\"colab-df-buttons\">\n",
              "\n",
              "  <div class=\"colab-df-container\">\n",
              "    <button class=\"colab-df-convert\" onclick=\"convertToInteractive('df-193d3a60-bf2e-4e92-bec7-7895d70f73e4')\"\n",
              "            title=\"Convert this dataframe to an interactive table.\"\n",
              "            style=\"display:none;\">\n",
              "\n",
              "  <svg xmlns=\"http://www.w3.org/2000/svg\" height=\"24px\" viewBox=\"0 -960 960 960\">\n",
              "    <path d=\"M120-120v-720h720v720H120Zm60-500h600v-160H180v160Zm220 220h160v-160H400v160Zm0 220h160v-160H400v160ZM180-400h160v-160H180v160Zm440 0h160v-160H620v160ZM180-180h160v-160H180v160Zm440 0h160v-160H620v160Z\"/>\n",
              "  </svg>\n",
              "    </button>\n",
              "\n",
              "  <style>\n",
              "    .colab-df-container {\n",
              "      display:flex;\n",
              "      gap: 12px;\n",
              "    }\n",
              "\n",
              "    .colab-df-convert {\n",
              "      background-color: #E8F0FE;\n",
              "      border: none;\n",
              "      border-radius: 50%;\n",
              "      cursor: pointer;\n",
              "      display: none;\n",
              "      fill: #1967D2;\n",
              "      height: 32px;\n",
              "      padding: 0 0 0 0;\n",
              "      width: 32px;\n",
              "    }\n",
              "\n",
              "    .colab-df-convert:hover {\n",
              "      background-color: #E2EBFA;\n",
              "      box-shadow: 0px 1px 2px rgba(60, 64, 67, 0.3), 0px 1px 3px 1px rgba(60, 64, 67, 0.15);\n",
              "      fill: #174EA6;\n",
              "    }\n",
              "\n",
              "    .colab-df-buttons div {\n",
              "      margin-bottom: 4px;\n",
              "    }\n",
              "\n",
              "    [theme=dark] .colab-df-convert {\n",
              "      background-color: #3B4455;\n",
              "      fill: #D2E3FC;\n",
              "    }\n",
              "\n",
              "    [theme=dark] .colab-df-convert:hover {\n",
              "      background-color: #434B5C;\n",
              "      box-shadow: 0px 1px 3px 1px rgba(0, 0, 0, 0.15);\n",
              "      filter: drop-shadow(0px 1px 2px rgba(0, 0, 0, 0.3));\n",
              "      fill: #FFFFFF;\n",
              "    }\n",
              "  </style>\n",
              "\n",
              "    <script>\n",
              "      const buttonEl =\n",
              "        document.querySelector('#df-193d3a60-bf2e-4e92-bec7-7895d70f73e4 button.colab-df-convert');\n",
              "      buttonEl.style.display =\n",
              "        google.colab.kernel.accessAllowed ? 'block' : 'none';\n",
              "\n",
              "      async function convertToInteractive(key) {\n",
              "        const element = document.querySelector('#df-193d3a60-bf2e-4e92-bec7-7895d70f73e4');\n",
              "        const dataTable =\n",
              "          await google.colab.kernel.invokeFunction('convertToInteractive',\n",
              "                                                    [key], {});\n",
              "        if (!dataTable) return;\n",
              "\n",
              "        const docLinkHtml = 'Like what you see? Visit the ' +\n",
              "          '<a target=\"_blank\" href=https://colab.research.google.com/notebooks/data_table.ipynb>data table notebook</a>'\n",
              "          + ' to learn more about interactive tables.';\n",
              "        element.innerHTML = '';\n",
              "        dataTable['output_type'] = 'display_data';\n",
              "        await google.colab.output.renderOutput(dataTable, element);\n",
              "        const docLink = document.createElement('div');\n",
              "        docLink.innerHTML = docLinkHtml;\n",
              "        element.appendChild(docLink);\n",
              "      }\n",
              "    </script>\n",
              "  </div>\n",
              "\n",
              "    </div>\n",
              "  </div>\n"
            ],
            "application/vnd.google.colaboratory.intrinsic+json": {
              "type": "dataframe",
              "variable_name": "df",
              "summary": "{\n  \"name\": \"df\",\n  \"rows\": 1,\n  \"fields\": [\n    {\n      \"column\": \"T1\",\n      \"properties\": {\n        \"dtype\": \"number\",\n        \"std\": null,\n        \"min\": 10.160443305969238,\n        \"max\": 10.160443305969238,\n        \"num_unique_values\": 1,\n        \"samples\": [\n          10.160443305969238\n        ],\n        \"semantic_type\": \"\",\n        \"description\": \"\"\n      }\n    },\n    {\n      \"column\": \"T2\",\n      \"properties\": {\n        \"dtype\": \"number\",\n        \"std\": null,\n        \"min\": 5.100871324539185,\n        \"max\": 5.100871324539185,\n        \"num_unique_values\": 1,\n        \"samples\": [\n          5.100871324539185\n        ],\n        \"semantic_type\": \"\",\n        \"description\": \"\"\n      }\n    },\n    {\n      \"column\": \"T3\",\n      \"properties\": {\n        \"dtype\": \"number\",\n        \"std\": null,\n        \"min\": 3.4646897315979004,\n        \"max\": 3.4646897315979004,\n        \"num_unique_values\": 1,\n        \"samples\": [\n          3.4646897315979004\n        ],\n        \"semantic_type\": \"\",\n        \"description\": \"\"\n      }\n    },\n    {\n      \"column\": \"T4\",\n      \"properties\": {\n        \"dtype\": \"number\",\n        \"std\": null,\n        \"min\": 2.5583057403564453,\n        \"max\": 2.5583057403564453,\n        \"num_unique_values\": 1,\n        \"samples\": [\n          2.5583057403564453\n        ],\n        \"semantic_type\": \"\",\n        \"description\": \"\"\n      }\n    },\n    {\n      \"column\": \"T5\",\n      \"properties\": {\n        \"dtype\": \"number\",\n        \"std\": null,\n        \"min\": 2.04398512840271,\n        \"max\": 2.04398512840271,\n        \"num_unique_values\": 1,\n        \"samples\": [\n          2.04398512840271\n        ],\n        \"semantic_type\": \"\",\n        \"description\": \"\"\n      }\n    },\n    {\n      \"column\": \"T6\",\n      \"properties\": {\n        \"dtype\": \"number\",\n        \"std\": null,\n        \"min\": 1.7406113147735596,\n        \"max\": 1.7406113147735596,\n        \"num_unique_values\": 1,\n        \"samples\": [\n          1.7406113147735596\n        ],\n        \"semantic_type\": \"\",\n        \"description\": \"\"\n      }\n    },\n    {\n      \"column\": \"T7\",\n      \"properties\": {\n        \"dtype\": \"number\",\n        \"std\": null,\n        \"min\": 1.5351502895355225,\n        \"max\": 1.5351502895355225,\n        \"num_unique_values\": 1,\n        \"samples\": [\n          1.5351502895355225\n        ],\n        \"semantic_type\": \"\",\n        \"description\": \"\"\n      }\n    },\n    {\n      \"column\": \"T8\",\n      \"properties\": {\n        \"dtype\": \"number\",\n        \"std\": null,\n        \"min\": 1.3388988971710205,\n        \"max\": 1.3388988971710205,\n        \"num_unique_values\": 1,\n        \"samples\": [\n          1.3388988971710205\n        ],\n        \"semantic_type\": \"\",\n        \"description\": \"\"\n      }\n    }\n  ]\n}"
            }
          },
          "metadata": {},
          "execution_count": 16
        }
      ]
    },
    {
      "cell_type": "markdown",
      "source": [
        "Graph"
      ],
      "metadata": {
        "id": "DDw-Ce2Vm2QN"
      }
    },
    {
      "cell_type": "code",
      "source": [
        "import matplotlib.pyplot as plt\n",
        "threads = list(range(1,9))\n",
        "plt.plot(threads, d, marker='o', linestyle='-')\n",
        "plt.xlabel('Number of Threads')\n",
        "plt.ylabel('Time Taken')\n",
        "plt.title('Execution Time')\n",
        "plt.grid(True)\n",
        "plt.show()\n"
      ],
      "metadata": {
        "colab": {
          "base_uri": "https://localhost:8080/",
          "height": 472
        },
        "id": "L-ZpczfKk69j",
        "outputId": "e95c487e-bd3d-45d5-acde-9aa270406a08"
      },
      "execution_count": 17,
      "outputs": [
        {
          "output_type": "display_data",
          "data": {
            "text/plain": [
              "<Figure size 640x480 with 1 Axes>"
            ],
            "image/png": "[encoded data removed]"
          },
          "metadata": {}
        }
      ]
    },
    {
      "cell_type": "code",
      "source": [],
      "metadata": {
        "id": "E_EKe0aorwrO"
      },
      "execution_count": null,
      "outputs": []
    }
  ]
}