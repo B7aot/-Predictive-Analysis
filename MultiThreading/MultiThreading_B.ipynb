{
 "cells": [
  {
   "cell_type": "code",
   "execution_count": 2,
   "metadata": {},
   "outputs": [],
   "source": [
    "import numpy as np\n",
    "import threading\n",
    "import time\n",
    "import psutil"
   ]
  },
  {
   "cell_type": "code",
   "execution_count": 3,
   "metadata": {},
   "outputs": [
    {
     "data": {
      "text/plain": [
       "array([[6, 3, 4, ..., 7, 0, 4],\n",
       "       [8, 3, 1, ..., 1, 1, 3],\n",
       "       [6, 0, 7, ..., 6, 8, 4],\n",
       "       ...,\n",
       "       [1, 0, 3, ..., 0, 6, 8],\n",
       "       [3, 7, 8, ..., 1, 3, 8],\n",
       "       [7, 0, 4, ..., 7, 0, 6]])"
      ]
     },
     "execution_count": 3,
     "metadata": {},
     "output_type": "execute_result"
    }
   ],
   "source": [
    "constant_matrix = np.random.randint(0,9, size=(1000, 1000))\n",
    "constant_matrix"
   ]
  },
  {
   "cell_type": "code",
   "execution_count": 4,
   "metadata": {},
   "outputs": [],
   "source": [
    "matrices = []\n",
    "for i in range(100):\n",
    "    matrix = np.random.randint(0, 9, size=(1000, 1000))\n",
    "    matrices.append(matrix)"
   ]
  },
  {
   "cell_type": "code",
   "execution_count": 5,
   "metadata": {},
   "outputs": [],
   "source": [
    "def matmul(constant_matrix,matrices,st,ed,cpu): #st= starting index, ed= ending index\n",
    "    result=constant_matrix\n",
    "    for i in range(st,ed):\n",
    "        result = np.dot(result,matrices[i])\n",
    "        cpu.append(psutil.cpu_percent(interval=0.1))\n",
    "    return result"
   ]
  },
  {
   "cell_type": "code",
   "execution_count": 6,
   "metadata": {},
   "outputs": [],
   "source": [
    "data=[[] for i in range(6)]"
   ]
  },
  {
   "cell_type": "code",
   "execution_count": 7,
   "metadata": {},
   "outputs": [
    {
     "name": "stdout",
     "output_type": "stream",
     "text": [
      "TOTAL THREADS =  1\n",
      "Thread 1 Average CPU Usage :  82.38199999999999\n",
      "\n",
      "TOTAL THREADS =  2\n",
      "Thread 2 Average CPU Usage :  71.95199999999998\n",
      "\n",
      "TOTAL THREADS =  3\n",
      "Thread 3 Average CPU Usage :  64.12800000000001\n",
      "\n",
      "TOTAL THREADS =  4\n",
      "Thread 4 Average CPU Usage :  82.68699999999998\n",
      "\n",
      "TOTAL THREADS =  5\n",
      "Thread 5 Average CPU Usage :  96.92500000000001\n",
      "\n",
      "TOTAL THREADS =  6\n",
      "Thread 6 Average CPU Usage :  99.279\n",
      "\n"
     ]
    }
   ],
   "source": [
    "for w in range(1,7):\n",
    "    c=w\n",
    "    print(\"TOTAL THREADS = \",c)\n",
    "    t = [None] * c\n",
    "    cpu_p =[[] for q in range(c)]\n",
    "    s=0\n",
    "    size=100//c\n",
    "    r=100 % c\n",
    "    start = time.time()\n",
    "    for i in range (c):\n",
    "        j = s + size\n",
    "        if i < r:\n",
    "            j =j+ 1\n",
    "        t[i]=threading.Thread(target=matmul, args=(constant_matrix,matrices,int(s),int(j),cpu_p[i]))\n",
    "        t[i].start()\n",
    "        s=j\n",
    "    for i in range (c):\n",
    "        t[i].join()\n",
    "    all_cpu_usage = []\n",
    "\n",
    "# Collect CPU usage from all threads\n",
    "    for cpu_list in cpu_p:\n",
    "        all_cpu_usage.extend(cpu_list)\n",
    "\n",
    "# Calculate the total and average CPU usage across all threads\n",
    "    total_percentage = sum(all_cpu_usage)\n",
    "    average_percentage = total_percentage / len(all_cpu_usage)\n",
    "    print(f\"Thread {i + 1} Average CPU Usage : \",average_percentage) #Prints AVERAGE CPU USAGE\n",
    "    end = time.time()\n",
    "    data[c-1].append(end-start)\n",
    "    print()"
   ]
  },
  {
   "cell_type": "code",
   "execution_count": 8,
   "metadata": {},
   "outputs": [
    {
     "data": {
      "text/html": [
       "<div>\n",
       "<style scoped>\n",
       "    .dataframe tbody tr th:only-of-type {\n",
       "        vertical-align: middle;\n",
       "    }\n",
       "\n",
       "    .dataframe tbody tr th {\n",
       "        vertical-align: top;\n",
       "    }\n",
       "\n",
       "    .dataframe thead th {\n",
       "        text-align: right;\n",
       "    }\n",
       "</style>\n",
       "<table border=\"1\" class=\"dataframe\">\n",
       "  <thead>\n",
       "    <tr style=\"text-align: right;\">\n",
       "      <th></th>\n",
       "      <th>T1</th>\n",
       "      <th>T2</th>\n",
       "      <th>T3</th>\n",
       "      <th>T4</th>\n",
       "      <th>T5</th>\n",
       "      <th>T6</th>\n",
       "    </tr>\n",
       "  </thead>\n",
       "  <tbody>\n",
       "    <tr>\n",
       "      <th>Time Taken</th>\n",
       "      <td>490.500746</td>\n",
       "      <td>169.250693</td>\n",
       "      <td>117.381205</td>\n",
       "      <td>181.109762</td>\n",
       "      <td>211.102193</td>\n",
       "      <td>138.437237</td>\n",
       "    </tr>\n",
       "  </tbody>\n",
       "</table>\n",
       "</div>"
      ],
      "text/plain": [
       "                    T1          T2          T3          T4          T5  \\\n",
       "Time Taken  490.500746  169.250693  117.381205  181.109762  211.102193   \n",
       "\n",
       "                    T6  \n",
       "Time Taken  138.437237  "
      ]
     },
     "execution_count": 8,
     "metadata": {},
     "output_type": "execute_result"
    }
   ],
   "source": [
    "import pandas as pd\n",
    "d = np.array(data)\n",
    "dd= np.reshape(d, (1, 6))\n",
    "df = pd.DataFrame(dd, columns=['T1', 'T2', 'T3', 'T4', 'T5', 'T6'],index=['Time Taken'])\n",
    "df"
   ]
  },
  {
   "cell_type": "code",
   "execution_count": 9,
   "metadata": {},
   "outputs": [
    {
     "data": {
      "image/png": "[encoded data removed]",
      "text/plain": [
       "<Figure size 640x480 with 1 Axes>"
      ]
     },
     "metadata": {},
     "output_type": "display_data"
    }
   ],
   "source": [
    "import matplotlib.pyplot as plt\n",
    "threads = list(range(1,7))\n",
    "plt.plot(threads, d, marker='o', linestyle='-')\n",
    "plt.xlabel('Number of Threads')\n",
    "plt.ylabel('Time Taken')\n",
    "plt.title('Execution Time')\n",
    "plt.grid(True)\n",
    "plt.show()"
   ]
  },
  {
   "cell_type": "code",
   "execution_count": null,
   "metadata": {},
   "outputs": [],
   "source": []
  }
 ],
 "metadata": {
  "kernelspec": {
   "display_name": "Python 3",
   "language": "python",
   "name": "python3"
  },
  "language_info": {
   "codemirror_mode": {
    "name": "ipython",
    "version": 3
   },
   "file_extension": ".py",
   "mimetype": "text/x-python",
   "name": "python",
   "nbconvert_exporter": "python",
   "pygments_lexer": "ipython3",
   "version": "3.10.9"
  }
 },
 "nbformat": 4,
 "nbformat_minor": 2
}
