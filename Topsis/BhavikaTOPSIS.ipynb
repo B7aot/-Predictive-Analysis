{
  "cells": [
    {
      "cell_type": "code",
      "execution_count": 2,
      "metadata": {
        "id": "AQAt2a83Egjq"
      },
      "outputs": [],
      "source": [
        "import numpy as np\n",
        "import pandas as pd\n",
        "from sklearn.preprocessing import LabelEncoder"
      ]
    },
    {
      "cell_type": "code",
      "execution_count": 3,
      "metadata": {
        "id": "JDZwxEPBEgY7"
      },
      "outputs": [],
      "source": [
        "df = {\n",
        "    'Fund Name': ['M1', 'M2', 'M3', 'M4', 'M5','M6','M7','M8'],\n",
        "    'P1': [0.84, 0.91, 0.79, 0.78, 0.94, 0.88, 0.66, 0.93],\n",
        "    'P2': [0.71, 0.83, 0.62, 0.61, 0.88, 0.77, 0.44, 0.86],\n",
        "    'P3': [6.7, 7, 4.8, 6.4, 3.6, 6.5, 5.3, 3.4],\n",
        "    'P4': [42.1, 31.7, 46.7, 42.4, 62.2, 51.5, 48.9, 37],\n",
        "    'P5': [12.59, 10.11, 13.23, 12.55, 16.91, 14.91, 13.83, 10.55]\n",
        "}\n",
        "\n",
        "d = pd.DataFrame(df)"
      ]
    },
    {
      "cell_type": "code",
      "execution_count": 4,
      "metadata": {
        "colab": {
          "base_uri": "https://localhost:8080/",
          "height": 300
        },
        "id": "iG0yIMKJEgWj",
        "outputId": "43c853b1-b3dd-443d-ae21-971376a07c1b"
      },
      "outputs": [
        {
          "data": {
            "text/html": [
              "<div>\n",
              "<style scoped>\n",
              "    .dataframe tbody tr th:only-of-type {\n",
              "        vertical-align: middle;\n",
              "    }\n",
              "\n",
              "    .dataframe tbody tr th {\n",
              "        vertical-align: top;\n",
              "    }\n",
              "\n",
              "    .dataframe thead th {\n",
              "        text-align: right;\n",
              "    }\n",
              "</style>\n",
              "<table border=\"1\" class=\"dataframe\">\n",
              "  <thead>\n",
              "    <tr style=\"text-align: right;\">\n",
              "      <th></th>\n",
              "      <th>Fund Name</th>\n",
              "      <th>P1</th>\n",
              "      <th>P2</th>\n",
              "      <th>P3</th>\n",
              "      <th>P4</th>\n",
              "      <th>P5</th>\n",
              "    </tr>\n",
              "  </thead>\n",
              "  <tbody>\n",
              "    <tr>\n",
              "      <th>0</th>\n",
              "      <td>M1</td>\n",
              "      <td>0.84</td>\n",
              "      <td>0.71</td>\n",
              "      <td>6.7</td>\n",
              "      <td>42.1</td>\n",
              "      <td>12.59</td>\n",
              "    </tr>\n",
              "    <tr>\n",
              "      <th>1</th>\n",
              "      <td>M2</td>\n",
              "      <td>0.91</td>\n",
              "      <td>0.83</td>\n",
              "      <td>7.0</td>\n",
              "      <td>31.7</td>\n",
              "      <td>10.11</td>\n",
              "    </tr>\n",
              "    <tr>\n",
              "      <th>2</th>\n",
              "      <td>M3</td>\n",
              "      <td>0.79</td>\n",
              "      <td>0.62</td>\n",
              "      <td>4.8</td>\n",
              "      <td>46.7</td>\n",
              "      <td>13.23</td>\n",
              "    </tr>\n",
              "    <tr>\n",
              "      <th>3</th>\n",
              "      <td>M4</td>\n",
              "      <td>0.78</td>\n",
              "      <td>0.61</td>\n",
              "      <td>6.4</td>\n",
              "      <td>42.4</td>\n",
              "      <td>12.55</td>\n",
              "    </tr>\n",
              "    <tr>\n",
              "      <th>4</th>\n",
              "      <td>M5</td>\n",
              "      <td>0.94</td>\n",
              "      <td>0.88</td>\n",
              "      <td>3.6</td>\n",
              "      <td>62.2</td>\n",
              "      <td>16.91</td>\n",
              "    </tr>\n",
              "    <tr>\n",
              "      <th>5</th>\n",
              "      <td>M6</td>\n",
              "      <td>0.88</td>\n",
              "      <td>0.77</td>\n",
              "      <td>6.5</td>\n",
              "      <td>51.5</td>\n",
              "      <td>14.91</td>\n",
              "    </tr>\n",
              "    <tr>\n",
              "      <th>6</th>\n",
              "      <td>M7</td>\n",
              "      <td>0.66</td>\n",
              "      <td>0.44</td>\n",
              "      <td>5.3</td>\n",
              "      <td>48.9</td>\n",
              "      <td>13.83</td>\n",
              "    </tr>\n",
              "    <tr>\n",
              "      <th>7</th>\n",
              "      <td>M8</td>\n",
              "      <td>0.93</td>\n",
              "      <td>0.86</td>\n",
              "      <td>3.4</td>\n",
              "      <td>37.0</td>\n",
              "      <td>10.55</td>\n",
              "    </tr>\n",
              "  </tbody>\n",
              "</table>\n",
              "</div>"
            ],
            "text/plain": [
              "  Fund Name    P1    P2   P3    P4     P5\n",
              "0        M1  0.84  0.71  6.7  42.1  12.59\n",
              "1        M2  0.91  0.83  7.0  31.7  10.11\n",
              "2        M3  0.79  0.62  4.8  46.7  13.23\n",
              "3        M4  0.78  0.61  6.4  42.4  12.55\n",
              "4        M5  0.94  0.88  3.6  62.2  16.91\n",
              "5        M6  0.88  0.77  6.5  51.5  14.91\n",
              "6        M7  0.66  0.44  5.3  48.9  13.83\n",
              "7        M8  0.93  0.86  3.4  37.0  10.55"
            ]
          },
          "execution_count": 4,
          "metadata": {},
          "output_type": "execute_result"
        }
      ],
      "source": [
        "d"
      ]
    },
    {
      "cell_type": "code",
      "execution_count": 5,
      "metadata": {
        "colab": {
          "base_uri": "https://localhost:8080/"
        },
        "id": "GUUiLOIdkhmO",
        "outputId": "5bca3b7d-b061-462c-e7a1-20020469bcc4"
      },
      "outputs": [
        {
          "data": {
            "text/plain": [
              "8"
            ]
          },
          "execution_count": 5,
          "metadata": {},
          "output_type": "execute_result"
        }
      ],
      "source": [
        "mm = d.shape[0]\n",
        "mm"
      ]
    },
    {
      "cell_type": "code",
      "execution_count": 6,
      "metadata": {
        "id": "FqHImDZYEgL_"
      },
      "outputs": [],
      "source": [
        "w = [1,1,0.5,2,1]\n",
        "im = ['-','+','+','+','-']"
      ]
    },
    {
      "cell_type": "code",
      "execution_count": 7,
      "metadata": {
        "id": "UobX9NTxKyGN"
      },
      "outputs": [],
      "source": [
        "Dataf = d\n",
        "Name = d[d.columns[0]]\n",
        "D = d.drop(d.columns[0],axis=1)"
      ]
    },
    {
      "cell_type": "code",
      "execution_count": 8,
      "metadata": {
        "id": "uKEOWGZyMiH8"
      },
      "outputs": [],
      "source": [
        "#Step 1: convert categorical to numerical\n",
        "def check_encode(D):\n",
        "    for column in D.columns:\n",
        "        if pd.to_numeric(D[column]).all():\n",
        "            continue\n",
        "        else:\n",
        "            le = LabelEncoder()\n",
        "            D[column] = le.fit_transform(D[column])\n",
        "    return D\n",
        "\n",
        "D=check_encode(D)\n"
      ]
    },
    {
      "cell_type": "code",
      "execution_count": 9,
      "metadata": {
        "colab": {
          "base_uri": "https://localhost:8080/"
        },
        "id": "9RdDdZzeQM35",
        "outputId": "8182e474-d44c-49f7-b637-4fe7e0ff7399"
      },
      "outputs": [
        {
          "name": "stdout",
          "output_type": "stream",
          "text": [
            "5\n",
            "[5.7247000e+00 4.2500000e+00 2.5275000e+02 1.7037250e+04 1.4040832e+03]\n",
            "[  2.39263453   2.06155281  15.8981131  130.52681717  37.4710982 ]\n",
            "         P1        P2        P3        P4        P5\n",
            "0  0.351077  0.344401  0.421434  0.322539  0.335992\n",
            "1  0.380334  0.402609  0.440304  0.242862  0.269808\n",
            "2  0.330180  0.300744  0.301923  0.357781  0.353072\n",
            "3  0.326000  0.295893  0.402563  0.324837  0.334925\n",
            "4  0.392872  0.426863  0.226442  0.476530  0.451281\n",
            "5  0.367795  0.373505  0.408854  0.394555  0.397907\n",
            "6  0.275847  0.213431  0.333373  0.374636  0.369084\n",
            "7  0.388693  0.417161  0.213862  0.283467  0.281550\n"
          ]
        }
      ],
      "source": [
        "#Step 2: vector normalization\n",
        "n = len(D.columns)\n",
        "print(n)\n",
        "colSqSum = (D**2).sum()\n",
        "colSqSumarray = colSqSum.values\n",
        "print(colSqSumarray)\n",
        "colSqSumRoot = np.sqrt(colSqSumarray)\n",
        "print(colSqSumRoot)\n",
        "vn = D.div(colSqSumRoot)\n",
        "print(vn)"
      ]
    },
    {
      "cell_type": "code",
      "execution_count": 10,
      "metadata": {
        "colab": {
          "base_uri": "https://localhost:8080/",
          "height": 300
        },
        "id": "LeJnnqGBRs6N",
        "outputId": "8455d558-89b3-4819-acc6-20f4cda6ce20"
      },
      "outputs": [
        {
          "data": {
            "text/html": [
              "<div>\n",
              "<style scoped>\n",
              "    .dataframe tbody tr th:only-of-type {\n",
              "        vertical-align: middle;\n",
              "    }\n",
              "\n",
              "    .dataframe tbody tr th {\n",
              "        vertical-align: top;\n",
              "    }\n",
              "\n",
              "    .dataframe thead th {\n",
              "        text-align: right;\n",
              "    }\n",
              "</style>\n",
              "<table border=\"1\" class=\"dataframe\">\n",
              "  <thead>\n",
              "    <tr style=\"text-align: right;\">\n",
              "      <th></th>\n",
              "      <th>P1</th>\n",
              "      <th>P2</th>\n",
              "      <th>P3</th>\n",
              "      <th>P4</th>\n",
              "      <th>P5</th>\n",
              "    </tr>\n",
              "  </thead>\n",
              "  <tbody>\n",
              "    <tr>\n",
              "      <th>0</th>\n",
              "      <td>0.351077</td>\n",
              "      <td>0.344401</td>\n",
              "      <td>0.210717</td>\n",
              "      <td>0.645078</td>\n",
              "      <td>0.335992</td>\n",
              "    </tr>\n",
              "    <tr>\n",
              "      <th>1</th>\n",
              "      <td>0.380334</td>\n",
              "      <td>0.402609</td>\n",
              "      <td>0.220152</td>\n",
              "      <td>0.485724</td>\n",
              "      <td>0.269808</td>\n",
              "    </tr>\n",
              "    <tr>\n",
              "      <th>2</th>\n",
              "      <td>0.330180</td>\n",
              "      <td>0.300744</td>\n",
              "      <td>0.150961</td>\n",
              "      <td>0.715562</td>\n",
              "      <td>0.353072</td>\n",
              "    </tr>\n",
              "    <tr>\n",
              "      <th>3</th>\n",
              "      <td>0.326000</td>\n",
              "      <td>0.295893</td>\n",
              "      <td>0.201282</td>\n",
              "      <td>0.649675</td>\n",
              "      <td>0.334925</td>\n",
              "    </tr>\n",
              "    <tr>\n",
              "      <th>4</th>\n",
              "      <td>0.392872</td>\n",
              "      <td>0.426863</td>\n",
              "      <td>0.113221</td>\n",
              "      <td>0.953061</td>\n",
              "      <td>0.451281</td>\n",
              "    </tr>\n",
              "    <tr>\n",
              "      <th>5</th>\n",
              "      <td>0.367795</td>\n",
              "      <td>0.373505</td>\n",
              "      <td>0.204427</td>\n",
              "      <td>0.789110</td>\n",
              "      <td>0.397907</td>\n",
              "    </tr>\n",
              "    <tr>\n",
              "      <th>6</th>\n",
              "      <td>0.275847</td>\n",
              "      <td>0.213431</td>\n",
              "      <td>0.166686</td>\n",
              "      <td>0.749271</td>\n",
              "      <td>0.369084</td>\n",
              "    </tr>\n",
              "    <tr>\n",
              "      <th>7</th>\n",
              "      <td>0.388693</td>\n",
              "      <td>0.417161</td>\n",
              "      <td>0.106931</td>\n",
              "      <td>0.566933</td>\n",
              "      <td>0.281550</td>\n",
              "    </tr>\n",
              "  </tbody>\n",
              "</table>\n",
              "</div>"
            ],
            "text/plain": [
              "         P1        P2        P3        P4        P5\n",
              "0  0.351077  0.344401  0.210717  0.645078  0.335992\n",
              "1  0.380334  0.402609  0.220152  0.485724  0.269808\n",
              "2  0.330180  0.300744  0.150961  0.715562  0.353072\n",
              "3  0.326000  0.295893  0.201282  0.649675  0.334925\n",
              "4  0.392872  0.426863  0.113221  0.953061  0.451281\n",
              "5  0.367795  0.373505  0.204427  0.789110  0.397907\n",
              "6  0.275847  0.213431  0.166686  0.749271  0.369084\n",
              "7  0.388693  0.417161  0.106931  0.566933  0.281550"
            ]
          },
          "execution_count": 10,
          "metadata": {},
          "output_type": "execute_result"
        }
      ],
      "source": [
        "#Step 3: weight assignment\n",
        "wnv=vn*w\n",
        "wnv"
      ]
    },
    {
      "cell_type": "code",
      "execution_count": 11,
      "metadata": {
        "colab": {
          "base_uri": "https://localhost:8080/"
        },
        "id": "RhroBvm-WGJH",
        "outputId": "7e50bca9-c96b-4770-cfc3-c5cbf260ca4a"
      },
      "outputs": [
        {
          "name": "stdout",
          "output_type": "stream",
          "text": [
            "{0: 0.27584655800427665, 1: 0.42686270006394605, 2: 0.22015191230285364, 3: 0.9530608552257642, 4: 0.2698079449705219}\n",
            "{0: 0.3928723704909395, 1: 0.21343135003197303, 2: 0.10693092883281462, 3: 0.4857239406857994, 4: 0.45128114237898376}\n"
          ]
        }
      ],
      "source": [
        "#step 4: calculate ideal best and worst values\n",
        "ib = {}\n",
        "iw = {}\n",
        "for i in range(0,n):\n",
        "    if im[i]=='+':\n",
        "        ib[i] = wnv[wnv.columns[i]].max()\n",
        "        iw[i] = wnv[wnv.columns[i]].min()\n",
        "    else:\n",
        "        ib[i] = wnv[wnv.columns[i]].min()\n",
        "        iw[i] = wnv[wnv.columns[i]].max()\n",
        "print(ib)\n",
        "print(iw)"
      ]
    },
    {
      "cell_type": "code",
      "execution_count": 12,
      "metadata": {
        "id": "tnQKraCMmJcG"
      },
      "outputs": [],
      "source": [
        "wnv=wnv.to_numpy()"
      ]
    },
    {
      "cell_type": "code",
      "execution_count": 13,
      "metadata": {
        "colab": {
          "base_uri": "https://localhost:8080/"
        },
        "id": "33z_eo7SwYnd",
        "outputId": "c67f6875-f316-4200-89c0-70d3120645ac"
      },
      "outputs": [
        {
          "name": "stdout",
          "output_type": "stream",
          "text": [
            "[0.33433876 0.47948893 0.29493064 0.3410391  0.24096013 0.23417545\n",
            " 0.31590742 0.41818628]\n",
            "[0.26145088 0.2858268  0.27561382 0.24615575 0.5138057  0.36145495\n",
            " 0.30574381 0.27735692]\n"
          ]
        }
      ],
      "source": [
        "#step 5: calculate euclidean distance\n",
        "distBest = np.zeros(mm)\n",
        "distWorst = np.zeros(mm)\n",
        "distB = np.copy(wnv)\n",
        "distW = np.copy(wnv)\n",
        "\n",
        "for j in range(mm):\n",
        "    for i in range(n):\n",
        "        distB[j][i] = (wnv[j][i] - ib[i]) ** 2\n",
        "        distW[j][i] = (wnv[j][i] - iw[i]) ** 2\n",
        "        distWorst[j] += distW[j][i]\n",
        "        distBest[j] += distB[j][i]\n",
        "\n",
        "for j in range(mm):\n",
        "    distWorst[j] = distWorst[j] ** 0.5\n",
        "    distBest[j] = distBest[j] ** 0.5\n",
        "\n",
        "print(distBest)\n",
        "print(distWorst)\n"
      ]
    },
    {
      "cell_type": "code",
      "execution_count": 14,
      "metadata": {
        "colab": {
          "base_uri": "https://localhost:8080/"
        },
        "id": "-gxSkWZbh7ZI",
        "outputId": "403f5dbb-c363-4f09-b557-77a33f65ae81"
      },
      "outputs": [
        {
          "name": "stdout",
          "output_type": "stream",
          "text": [
            "[0.4388308529017517, 0.37347566800635623, 0.48307159742078826, 0.41920624330185996, 0.6807484886215399, 0.6068443667808436, 0.49182530821214376, 0.39876303594798523]\n"
          ]
        }
      ],
      "source": [
        "#Step 6: performance score\n",
        "score = []\n",
        "for i in range(len(distBest)):\n",
        "    score.append(distWorst[i] / (distBest[i] + distWorst[i]))\n",
        "print(score)\n"
      ]
    },
    {
      "cell_type": "code",
      "execution_count": 15,
      "metadata": {
        "id": "q5673NLKryfn"
      },
      "outputs": [],
      "source": [
        "#step7: rank\n",
        "pData = pd.DataFrame(data ={'Items':Name , 'Performance':score})\n",
        "pData['Rank'] = pData['Performance'].rank(ascending=False)"
      ]
    },
    {
      "cell_type": "code",
      "execution_count": 16,
      "metadata": {
        "colab": {
          "base_uri": "https://localhost:8080/",
          "height": 300
        },
        "id": "bgsLOwMrvHtq",
        "outputId": "57932669-a7c1-4f28-fe69-d5d1c86f6f40"
      },
      "outputs": [
        {
          "data": {
            "text/html": [
              "<div>\n",
              "<style scoped>\n",
              "    .dataframe tbody tr th:only-of-type {\n",
              "        vertical-align: middle;\n",
              "    }\n",
              "\n",
              "    .dataframe tbody tr th {\n",
              "        vertical-align: top;\n",
              "    }\n",
              "\n",
              "    .dataframe thead th {\n",
              "        text-align: right;\n",
              "    }\n",
              "</style>\n",
              "<table border=\"1\" class=\"dataframe\">\n",
              "  <thead>\n",
              "    <tr style=\"text-align: right;\">\n",
              "      <th></th>\n",
              "      <th>Items</th>\n",
              "      <th>Performance</th>\n",
              "      <th>Rank</th>\n",
              "    </tr>\n",
              "  </thead>\n",
              "  <tbody>\n",
              "    <tr>\n",
              "      <th>0</th>\n",
              "      <td>M1</td>\n",
              "      <td>0.438831</td>\n",
              "      <td>5.0</td>\n",
              "    </tr>\n",
              "    <tr>\n",
              "      <th>1</th>\n",
              "      <td>M2</td>\n",
              "      <td>0.373476</td>\n",
              "      <td>8.0</td>\n",
              "    </tr>\n",
              "    <tr>\n",
              "      <th>2</th>\n",
              "      <td>M3</td>\n",
              "      <td>0.483072</td>\n",
              "      <td>4.0</td>\n",
              "    </tr>\n",
              "    <tr>\n",
              "      <th>3</th>\n",
              "      <td>M4</td>\n",
              "      <td>0.419206</td>\n",
              "      <td>6.0</td>\n",
              "    </tr>\n",
              "    <tr>\n",
              "      <th>4</th>\n",
              "      <td>M5</td>\n",
              "      <td>0.680748</td>\n",
              "      <td>1.0</td>\n",
              "    </tr>\n",
              "    <tr>\n",
              "      <th>5</th>\n",
              "      <td>M6</td>\n",
              "      <td>0.606844</td>\n",
              "      <td>2.0</td>\n",
              "    </tr>\n",
              "    <tr>\n",
              "      <th>6</th>\n",
              "      <td>M7</td>\n",
              "      <td>0.491825</td>\n",
              "      <td>3.0</td>\n",
              "    </tr>\n",
              "    <tr>\n",
              "      <th>7</th>\n",
              "      <td>M8</td>\n",
              "      <td>0.398763</td>\n",
              "      <td>7.0</td>\n",
              "    </tr>\n",
              "  </tbody>\n",
              "</table>\n",
              "</div>"
            ],
            "text/plain": [
              "  Items  Performance  Rank\n",
              "0    M1     0.438831   5.0\n",
              "1    M2     0.373476   8.0\n",
              "2    M3     0.483072   4.0\n",
              "3    M4     0.419206   6.0\n",
              "4    M5     0.680748   1.0\n",
              "5    M6     0.606844   2.0\n",
              "6    M7     0.491825   3.0\n",
              "7    M8     0.398763   7.0"
            ]
          },
          "execution_count": 16,
          "metadata": {},
          "output_type": "execute_result"
        }
      ],
      "source": [
        "pData"
      ]
    },
    {
      "cell_type": "code",
      "execution_count": null,
      "metadata": {
        "id": "8Bs45WWdyATs"
      },
      "outputs": [],
      "source": []
    }
  ],
  "metadata": {
    "colab": {
      "provenance": []
    },
    "kernelspec": {
      "display_name": "Python 3",
      "name": "python3"
    },
    "language_info": {
      "codemirror_mode": {
        "name": "ipython",
        "version": 3
      },
      "file_extension": ".py",
      "mimetype": "text/x-python",
      "name": "python",
      "nbconvert_exporter": "python",
      "pygments_lexer": "ipython3",
      "version": "3.10.9"
    }
  },
  "nbformat": 4,
  "nbformat_minor": 0
}
