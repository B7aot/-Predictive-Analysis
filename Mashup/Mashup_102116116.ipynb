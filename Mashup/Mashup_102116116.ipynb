{
 "cells": [
  {
   "cell_type": "code",
   "execution_count": null,
   "metadata": {},
   "outputs": [],
   "source": [
    "import os\n",
    "from pytube import YouTube\n",
    "from pydub import AudioSegment\n",
    "from moviepy.video.io.VideoFileClip import VideoFileClip"
   ]
  },
  {
   "cell_type": "code",
   "execution_count": null,
   "metadata": {},
   "outputs": [],
   "source": [
    "curr_dir = os.getcwd()\n",
    "if not os.path.exists('Audios'):\n",
    "    os.makedirs('Audios')\n",
    "if not os.path.exists('Videos'):\n",
    "    os.makedirs('Videos')\n",
    "if not os.path.exists('Trim'):\n",
    "    os.makedirs('Trim')  "
   ]
  },
  {
   "cell_type": "code",
   "execution_count": null,
   "metadata": {},
   "outputs": [],
   "source": [
    "audio_path = curr_dir+'\\\\Audios'\n",
    "video_path = curr_dir+'\\\\Videos'\n",
    "trim_path = curr_dir+'\\\\Trim'"
   ]
  },
  {
   "cell_type": "code",
   "execution_count": null,
   "metadata": {},
   "outputs": [],
   "source": [
    "def download_videos(video_url):\n",
    "    # Replace 'your_video_url' with the actual YouTube video URL\n",
    "\n",
    "    # Create a YouTube object\n",
    "    yt = YouTube(video_url)\n",
    "\n",
    "    # Get the highest resolution stream\n",
    "    video_stream = yt.streams.get_highest_resolution()\n",
    "\n",
    "    # Specify the directory where you want to save the video\n",
    "    download_directory = 'Videos'\n",
    "\n",
    "    # Download the video\n",
    "    video_stream.download(download_directory)\n",
    "\n",
    "    print(\"Video downloaded successfully.\")"
   ]
  },
  {
   "cell_type": "code",
   "execution_count": null,
   "metadata": {},
   "outputs": [],
   "source": [
    "all_urls = [\n",
    "    'https://www.youtube.com/watch?v=K6WCcBP4lSs',\n",
    "    'https://www.youtube.com/watch?v=4NRXx6U8ABQ',\n",
    "    'https://www.youtube.com/watch?v=3_g2un5M350',\n",
    "    'https://www.youtube.com/watch?v=WxYgXmZ9xh8',\n",
    "    'https://www.youtube.com/watch?v=RmYCOm4ehKs',\n",
    "    'https://www.youtube.com/watch?v=cJVpXPSXGtk',\n",
    "    'https://www.youtube.com/watch?v=mTLQhPFx2nM',\n",
    "    'https://www.youtube.com/watch?v=ZXm2V5qbs7Q',\n",
    "    'https://www.youtube.com/watch?v=17c7kDMG_mU',\n",
    "    'https://www.youtube.com/watch?v=qPRNIHxLhmc',\n",
    "]"
   ]
  },
  {
   "cell_type": "code",
   "execution_count": null,
   "metadata": {},
   "outputs": [],
   "source": [
    "for url in all_urls:\n",
    "    download_videos(url)"
   ]
  },
  {
   "cell_type": "code",
   "execution_count": null,
   "metadata": {},
   "outputs": [],
   "source": [
    "def video_to_audio(input_file,output_folder):\n",
    "    video_clip = VideoFileClip(input_file)\n",
    "    \n",
    "    # Extract audio from the video\n",
    "    audio_clip = video_clip.audio\n",
    "    \n",
    "    # Save the audio to the specified output file\n",
    "    name = str(input_file)\n",
    "    name = name.split('\\\\')[-1][:-4]\n",
    "    output_file = f'{name}_audio.mp3'\n",
    "    output_file = f'{output_folder}\\\\{output_file}'\n",
    "    audio_clip.write_audiofile(output_file)"
   ]
  },
  {
   "cell_type": "code",
   "execution_count": null,
   "metadata": {},
   "outputs": [],
   "source": [
    "videos = os.listdir(video_path)\n",
    "print(f'{video_path}\\\\{videos[3]}')\n",
    "for vid in videos:\n",
    "    video_to_audio(f'{video_path}\\\\{vid}',audio_path)"
   ]
  },
  {
   "cell_type": "code",
   "execution_count": null,
   "metadata": {},
   "outputs": [],
   "source": [
    "def trim_audio(input_file, output_file, start_time, end_time):\n",
    "    # Load the audio segment\n",
    "    audio = AudioSegment.from_file(input_file, format=\"mp3\")\n",
    "    \n",
    "    # Trim the audio segment\n",
    "    trimmed_audio = audio[start_time * 1000:end_time * 1000]  # Time is in milliseconds\n",
    "    \n",
    "    # Export the trimmed audio to the specified output file\n",
    "    name = str(input_file).split('\\\\')[-1]\n",
    "    trimmed_audio.export(f'{output_file}\\\\{name}', format=\"mp3\")"
   ]
  },
  {
   "cell_type": "code",
   "execution_count": null,
   "metadata": {},
   "outputs": [],
   "source": [
    "audios = os.listdir(audio_path)\n",
    "for aud in audios:\n",
    "    trim_audio(f'{audio_path}\\\\{aud}', trim_path, start_time=20, end_time=40)    "
   ]
  },
  {
   "cell_type": "code",
   "execution_count": null,
   "metadata": {},
   "outputs": [],
   "source": [
    "audios = os.listdir(trim_path)\n",
    "all_audios = []\n",
    "for aud in audios:\n",
    "    pth = AudioSegment.from_file(f'{trim_path}\\\\{aud}', format=\"mp3\")\n",
    "    all_audios.append(pth)\n",
    "merged_audio = all_audios[0]\n",
    "for i in range(1,len(all_audios)):\n",
    "    merged_audio = merged_audio + all_audios[i]\n",
    "merged_audio.export('merged_audio.mp3', format=\"mp3\")"
   ]
  }
 ],
 "metadata": {
  "kernelspec": {
   "display_name": "Python 3",
   "language": "python",
   "name": "python3"
  },
  "language_info": {
   "codemirror_mode": {
    "name": "ipython",
    "version": 3
   },
   "file_extension": ".py",
   "mimetype": "text/x-python",
   "name": "python",
   "nbconvert_exporter": "python",
   "pygments_lexer": "ipython3",
   "version": "3.10.9"
  }
 },
 "nbformat": 4,
 "nbformat_minor": 2
}
